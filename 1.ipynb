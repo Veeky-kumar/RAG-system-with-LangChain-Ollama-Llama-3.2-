{
 "cells": [
  {
   "cell_type": "code",
   "execution_count": 10,
   "id": "dad0fd94",
   "metadata": {},
   "outputs": [],
   "source": [
    "from langchain_ollama import OllamaLLM, OllamaEmbeddings\n",
    "from langchain_core.prompts import ChatPromptTemplate \n",
    "from langchain_community.vectorstores import Chroma\n",
    "import pandas as pd"
   ]
  },
  {
   "cell_type": "markdown",
   "id": "45413bf7",
   "metadata": {},
   "source": [
    "load document"
   ]
  },
  {
   "cell_type": "code",
   "execution_count": 11,
   "id": "15df41de",
   "metadata": {},
   "outputs": [
    {
     "data": {
      "text/html": [
       "<div>\n",
       "<style scoped>\n",
       "    .dataframe tbody tr th:only-of-type {\n",
       "        vertical-align: middle;\n",
       "    }\n",
       "\n",
       "    .dataframe tbody tr th {\n",
       "        vertical-align: top;\n",
       "    }\n",
       "\n",
       "    .dataframe thead th {\n",
       "        text-align: right;\n",
       "    }\n",
       "</style>\n",
       "<table border=\"1\" class=\"dataframe\">\n",
       "  <thead>\n",
       "    <tr style=\"text-align: right;\">\n",
       "      <th></th>\n",
       "      <th>Title</th>\n",
       "      <th>Date</th>\n",
       "      <th>Rating</th>\n",
       "      <th>Review</th>\n",
       "    </tr>\n",
       "  </thead>\n",
       "  <tbody>\n",
       "    <tr>\n",
       "      <th>0</th>\n",
       "      <td>Best pizza in town</td>\n",
       "      <td>2024-03-15</td>\n",
       "      <td>5</td>\n",
       "      <td>The crust was perfectly crispy on the outside ...</td>\n",
       "    </tr>\n",
       "    <tr>\n",
       "      <th>1</th>\n",
       "      <td>Disappointed with service</td>\n",
       "      <td>2024-02-20</td>\n",
       "      <td>2</td>\n",
       "      <td>While the pizza itself was decent, we waited o...</td>\n",
       "    </tr>\n",
       "    <tr>\n",
       "      <th>2</th>\n",
       "      <td>Authentic Italian experience</td>\n",
       "      <td>2024-01-05</td>\n",
       "      <td>5</td>\n",
       "      <td>This place reminds me of the pizzerias in Napl...</td>\n",
       "    </tr>\n",
       "    <tr>\n",
       "      <th>3</th>\n",
       "      <td>Overpriced for what you get</td>\n",
       "      <td>2024-03-01</td>\n",
       "      <td>3</td>\n",
       "      <td>$24 for a medium pizza with just two toppings ...</td>\n",
       "    </tr>\n",
       "    <tr>\n",
       "      <th>4</th>\n",
       "      <td>Great gluten-free option</td>\n",
       "      <td>2024-02-15</td>\n",
       "      <td>4</td>\n",
       "      <td>As someone with celiac disease, finding good g...</td>\n",
       "    </tr>\n",
       "    <tr>\n",
       "      <th>...</th>\n",
       "      <td>...</td>\n",
       "      <td>...</td>\n",
       "      <td>...</td>\n",
       "      <td>...</td>\n",
       "    </tr>\n",
       "    <tr>\n",
       "      <th>118</th>\n",
       "      <td>Perfect for dietary restrictions</td>\n",
       "      <td>2024-02-09</td>\n",
       "      <td>5</td>\n",
       "      <td>As someone with multiple food allergies, I app...</td>\n",
       "    </tr>\n",
       "    <tr>\n",
       "      <th>119</th>\n",
       "      <td>Tasteless cheese substitute</td>\n",
       "      <td>2024-03-01</td>\n",
       "      <td>2</td>\n",
       "      <td>Their vegan cheese option was terrible - had n...</td>\n",
       "    </tr>\n",
       "    <tr>\n",
       "      <th>120</th>\n",
       "      <td>Masterclass in proper baking</td>\n",
       "      <td>2024-01-10</td>\n",
       "      <td>5</td>\n",
       "      <td>Watching the pizzaiolo work the oven is like w...</td>\n",
       "    </tr>\n",
       "    <tr>\n",
       "      <th>121</th>\n",
       "      <td>Tomato sauce tasted rancid</td>\n",
       "      <td>2024-02-16</td>\n",
       "      <td>1</td>\n",
       "      <td>The sauce had a distinctly off flavor that sug...</td>\n",
       "    </tr>\n",
       "    <tr>\n",
       "      <th>122</th>\n",
       "      <td>Perfect buffalo mozzarella application</td>\n",
       "      <td>2024-03-20</td>\n",
       "      <td>5</td>\n",
       "      <td>They understand that buffalo mozzarella should...</td>\n",
       "    </tr>\n",
       "  </tbody>\n",
       "</table>\n",
       "<p>123 rows × 4 columns</p>\n",
       "</div>"
      ],
      "text/plain": [
       "                                      Title        Date  Rating  \\\n",
       "0                        Best pizza in town  2024-03-15       5   \n",
       "1                 Disappointed with service  2024-02-20       2   \n",
       "2              Authentic Italian experience  2024-01-05       5   \n",
       "3               Overpriced for what you get  2024-03-01       3   \n",
       "4                  Great gluten-free option  2024-02-15       4   \n",
       "..                                      ...         ...     ...   \n",
       "118        Perfect for dietary restrictions  2024-02-09       5   \n",
       "119             Tasteless cheese substitute  2024-03-01       2   \n",
       "120            Masterclass in proper baking  2024-01-10       5   \n",
       "121              Tomato sauce tasted rancid  2024-02-16       1   \n",
       "122  Perfect buffalo mozzarella application  2024-03-20       5   \n",
       "\n",
       "                                                Review  \n",
       "0    The crust was perfectly crispy on the outside ...  \n",
       "1    While the pizza itself was decent, we waited o...  \n",
       "2    This place reminds me of the pizzerias in Napl...  \n",
       "3    $24 for a medium pizza with just two toppings ...  \n",
       "4    As someone with celiac disease, finding good g...  \n",
       "..                                                 ...  \n",
       "118  As someone with multiple food allergies, I app...  \n",
       "119  Their vegan cheese option was terrible - had n...  \n",
       "120  Watching the pizzaiolo work the oven is like w...  \n",
       "121  The sauce had a distinctly off flavor that sug...  \n",
       "122  They understand that buffalo mozzarella should...  \n",
       "\n",
       "[123 rows x 4 columns]"
      ]
     },
     "execution_count": 11,
     "metadata": {},
     "output_type": "execute_result"
    }
   ],
   "source": [
    "df = pd.read_csv(\"realistic_restaurant_reviews.csv\")\n",
    "df\n"
   ]
  },
  {
   "cell_type": "code",
   "execution_count": 12,
   "id": "41eb1bee",
   "metadata": {},
   "outputs": [],
   "source": [
    "documents = [\n",
    "    f\"Title: {row['Title']}\\nDate: {row['Date']}\\nRating: {row['Rating']}\\nReview: {row['Review']}\"\n",
    "    for _, row in df.iterrows()\n",
    "]"
   ]
  },
  {
   "cell_type": "markdown",
   "id": "19157cde",
   "metadata": {},
   "source": [
    "Create embeddings and vectorstore"
   ]
  },
  {
   "cell_type": "code",
   "execution_count": 13,
   "id": "9ececf33",
   "metadata": {},
   "outputs": [],
   "source": [
    "embeddings = OllamaEmbeddings(model=\"mxbai-embed-large\")\n",
    "vectorstore = Chroma.from_texts(documents, embedding=embeddings)\n",
    "retriever = vectorstore.as_retriever(search_kwargs={\"k\": 5})"
   ]
  },
  {
   "cell_type": "markdown",
   "id": "c232429f",
   "metadata": {},
   "source": [
    "Initialize LLM"
   ]
  },
  {
   "cell_type": "code",
   "execution_count": 14,
   "id": "d98e3e58",
   "metadata": {},
   "outputs": [],
   "source": [
    "llm = OllamaLLM(model=\"llama3.2\", temperature=0.3)\n"
   ]
  },
  {
   "cell_type": "markdown",
   "id": "0ca32e98",
   "metadata": {},
   "source": [
    "Build the RetrievalQA Chain"
   ]
  },
  {
   "cell_type": "code",
   "execution_count": 15,
   "id": "e4970793",
   "metadata": {},
   "outputs": [],
   "source": [
    "from langchain.chains import RetrievalQA\n",
    "\n",
    "# retriever = vectorstore.as_retriever(search_kwargs={\"k\": 5})\n",
    "qa_chain = RetrievalQA.from_chain_type(\n",
    "    llm = llm,\n",
    "    retriever = retriever,\n",
    "    chain_type = \"stuff\"\n",
    "\n",
    ")"
   ]
  },
  {
   "cell_type": "code",
   "execution_count": 17,
   "id": "ffe7df96",
   "metadata": {},
   "outputs": [
    {
     "name": "stdout",
     "output_type": "stream",
     "text": [
      "The best pizza place mentioned in the reviews with a 5-star rating is not explicitly stated as a single location, but rather it appears to be the same place multiple times. The review titles are all \"Best [insert type of pizza] in town\", suggesting that this is a highly-recommended spot for different types of pizzas.\n",
      "\n",
      "However, based on the repeated mention of their signature pepperoni pizza and the 'White Album' pizza, it can be inferred that these two pizzas are likely among their most popular options.\n"
     ]
    }
   ],
   "source": [
    "query = \"What is the best pizza place mentioned in the reviews and best rating?\"\n",
    "answer = qa_chain.run(query)\n",
    "print(answer)"
   ]
  },
  {
   "cell_type": "code",
   "execution_count": 18,
   "id": "c22d5a7e",
   "metadata": {},
   "outputs": [
    {
     "data": {
      "text/plain": [
       "\"Based on the provided reviews, it appears that there are multiple reviewers with similar ratings of 3 out of 5 stars. However, I don't have enough information to determine if there's a clear trend or pattern in the ratings for February 2024. The reviews seem to be from different dates and don't provide any further context about the overall rating trend for that specific month.\""
      ]
     },
     "execution_count": 18,
     "metadata": {},
     "output_type": "execute_result"
    }
   ],
   "source": [
    "qa_chain.run(\"Summarize all negative reviews.\")\n",
    "qa_chain.run(\"Which review mentioned wood-fired Margherita pizza?\")\n",
    "qa_chain.run(\"What is the overall rating trend in February 2024?\")\n"
   ]
  },
  {
   "cell_type": "code",
   "execution_count": null,
   "id": "9ff44a0d",
   "metadata": {},
   "outputs": [],
   "source": []
  }
 ],
 "metadata": {
  "kernelspec": {
   "display_name": "campusx",
   "language": "python",
   "name": "python3"
  },
  "language_info": {
   "codemirror_mode": {
    "name": "ipython",
    "version": 3
   },
   "file_extension": ".py",
   "mimetype": "text/x-python",
   "name": "python",
   "nbconvert_exporter": "python",
   "pygments_lexer": "ipython3",
   "version": "3.13.5"
  }
 },
 "nbformat": 4,
 "nbformat_minor": 5
}
